{
 "cells": [
  {
   "cell_type": "code",
   "execution_count": 1,
   "metadata": {},
   "outputs": [],
   "source": [
    "import pandas as pd \n",
    "data = pd.read_csv('category.csv')"
   ]
  },
  {
   "cell_type": "code",
   "execution_count": 2,
   "metadata": {},
   "outputs": [
    {
     "name": "stdout",
     "output_type": "stream",
     "text": [
      "<class 'pandas.core.frame.DataFrame'>\n",
      "RangeIndex: 11591 entries, 0 to 11590\n",
      "Data columns (total 3 columns):\n",
      "Unnamed: 0     11591 non-null int64\n",
      "DESCRIPTION    11591 non-null object\n",
      "CATEGORY       11591 non-null object\n",
      "dtypes: int64(1), object(2)\n",
      "memory usage: 271.8+ KB\n"
     ]
    }
   ],
   "source": [
    "data.info()"
   ]
  },
  {
   "cell_type": "code",
   "execution_count": 3,
   "metadata": {},
   "outputs": [
    {
     "data": {
      "text/plain": [
       "11591"
      ]
     },
     "execution_count": 3,
     "metadata": {},
     "output_type": "execute_result"
    }
   ],
   "source": [
    "corpus = []\n",
    "for i in data.index:\n",
    "    corpus.append(data['DESCRIPTION'][i])\n",
    "len(corpus)"
   ]
  },
  {
   "cell_type": "code",
   "execution_count": 4,
   "metadata": {},
   "outputs": [],
   "source": [
    "# extract features from the text\n",
    "from sklearn.feature_extraction.text import TfidfVectorizer\n",
    "vectorizer = TfidfVectorizer(ngram_range = (1, 1), stop_words = 'english', max_features = 8100) "
   ]
  },
  {
   "cell_type": "code",
   "execution_count": 5,
   "metadata": {},
   "outputs": [
    {
     "name": "stdout",
     "output_type": "stream",
     "text": [
      "(11591, 8100)\n"
     ]
    }
   ],
   "source": [
    "X = vectorizer.fit_transform(corpus)\n",
    "print(X.shape) "
   ]
  },
  {
   "cell_type": "code",
   "execution_count": 6,
   "metadata": {},
   "outputs": [],
   "source": [
    "import numpy as np\n",
    "import torch\n",
    "import torchvision\n",
    "from torch import nn\n",
    "from torch.autograd import Variable"
   ]
  },
  {
   "cell_type": "code",
   "execution_count": 7,
   "metadata": {},
   "outputs": [],
   "source": [
    "# Hyperparameters\n",
    "num_epochs = 10\n",
    "batch_size = 500\n",
    "learning_rate = 1e-3"
   ]
  },
  {
   "cell_type": "code",
   "execution_count": 8,
   "metadata": {},
   "outputs": [],
   "source": [
    "class autoencoder(nn.Module):\n",
    "    def __init__(self):\n",
    "        super(autoencoder, self).__init__()\n",
    "        self.weights = []\n",
    "        self.encoder = nn.Sequential(\n",
    "            nn.Linear(90 * 90, 2000),\n",
    "            nn.ReLU(True),\n",
    "            nn.Linear(2000, 1000),\n",
    "            nn.ReLU(True), \n",
    "            nn.Linear(1000, 100), \n",
    "            nn.ReLU(True), \n",
    "            nn.Linear(100, 11))\n",
    "        self.decoder = nn.Sequential(\n",
    "            nn.Linear(11, 100),\n",
    "            nn.ReLU(True),\n",
    "            nn.Linear(100, 1000),\n",
    "            nn.ReLU(True),\n",
    "            nn.Linear(1000, 2000),\n",
    "            nn.ReLU(True), \n",
    "            nn.Linear(2000, 90 * 90), \n",
    "            nn.Tanh())\n",
    "\n",
    "    def forward(self, x):\n",
    "        x = self.encoder(x)\n",
    "        x = self.decoder(x)\n",
    "        return x\n",
    "    \n",
    "    def get_features(self, x):\n",
    "        return self.encoder(x)"
   ]
  },
  {
   "cell_type": "code",
   "execution_count": 9,
   "metadata": {},
   "outputs": [],
   "source": [
    "model = autoencoder().cuda()\n",
    "criterion = nn.MSELoss()\n",
    "optimizer = torch.optim.Adam(model.parameters(), lr = learning_rate, weight_decay = 1e-5)\n",
    "X = X.todense() # csr matrix to numpy"
   ]
  },
  {
   "cell_type": "code",
   "execution_count": 10,
   "metadata": {},
   "outputs": [
    {
     "name": "stdout",
     "output_type": "stream",
     "text": [
      "Epoch [1/10], Loss:0.0001\n",
      "Epoch [2/10], Loss:0.0001\n",
      "Epoch [3/10], Loss:0.0001\n",
      "Epoch [4/10], Loss:0.0001\n",
      "Epoch [5/10], Loss:0.0001\n",
      "Epoch [6/10], Loss:0.0001\n",
      "Epoch [7/10], Loss:0.0001\n",
      "Epoch [8/10], Loss:0.0001\n",
      "Epoch [9/10], Loss:0.0001\n",
      "Epoch [10/10], Loss:0.0001\n"
     ]
    }
   ],
   "source": [
    "weights = []\n",
    "for epoch in range(num_epochs):\n",
    "    for d in X:\n",
    "        d = torch.from_numpy(d)\n",
    "        d = d.view(d.size(0), -1)\n",
    "        d = Variable(d).cuda()\n",
    "        # forward pass\n",
    "        output = model(d.float())\n",
    "        loss = criterion(output.float(), d.float())\n",
    "        # backward pass\n",
    "        optimizer.zero_grad()\n",
    "        loss.backward()\n",
    "        optimizer.step()\n",
    "        # write weights for last epoch\n",
    "        if epoch == 9:\n",
    "            tensor_ = model.get_features(d.float())\n",
    "            array = tensor_.cpu().detach().numpy()\n",
    "            weights.append(array)\n",
    "                  \n",
    "    print('Epoch [{}/{}], Loss:{:.4f}'\n",
    "          .format(epoch + 1, num_epochs, loss.data))"
   ]
  },
  {
   "cell_type": "code",
   "execution_count": 11,
   "metadata": {},
   "outputs": [
    {
     "data": {
      "text/plain": [
       "11"
      ]
     },
     "execution_count": 11,
     "metadata": {},
     "output_type": "execute_result"
    }
   ],
   "source": [
    "len(weights[0][0])"
   ]
  },
  {
   "cell_type": "code",
   "execution_count": 12,
   "metadata": {},
   "outputs": [],
   "source": [
    "# write features to file\n",
    "wt_file = open('features.category', 'w')\n",
    "\n",
    "for i in range(11591):\n",
    "    for j in range(11):\n",
    "        wt = weights[i][0][j]\n",
    "        wt_file.write('{wt} '.format(wt = wt))\n",
    "    wt_file.write('\\n')"
   ]
  },
  {
   "cell_type": "code",
   "execution_count": null,
   "metadata": {},
   "outputs": [],
   "source": []
  }
 ],
 "metadata": {
  "kernelspec": {
   "display_name": "Python 3",
   "language": "python",
   "name": "python3"
  },
  "language_info": {
   "codemirror_mode": {
    "name": "ipython",
    "version": 3
   },
   "file_extension": ".py",
   "mimetype": "text/x-python",
   "name": "python",
   "nbconvert_exporter": "python",
   "pygments_lexer": "ipython3",
   "version": "3.7.0"
  }
 },
 "nbformat": 4,
 "nbformat_minor": 2
}
