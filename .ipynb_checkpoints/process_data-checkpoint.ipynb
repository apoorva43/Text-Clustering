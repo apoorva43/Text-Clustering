{
 "cells": [
  {
   "cell_type": "code",
   "execution_count": 1,
   "metadata": {},
   "outputs": [],
   "source": [
    "import pandas as pd\n",
    "data = pd.read_csv('data.csv')"
   ]
  },
  {
   "cell_type": "code",
   "execution_count": 2,
   "metadata": {},
   "outputs": [],
   "source": [
    "data = data.rename(columns = {\"Please Check\": \"NEW CATEGORY\"})"
   ]
  },
  {
   "cell_type": "code",
   "execution_count": 3,
   "metadata": {},
   "outputs": [
    {
     "name": "stdout",
     "output_type": "stream",
     "text": [
      "<class 'pandas.core.frame.DataFrame'>\n",
      "Int64Index: 11591 entries, 0 to 11677\n",
      "Data columns (total 12 columns):\n",
      "#                 11591 non-null int64\n",
      "INCIDENT TITLE    11591 non-null object\n",
      "INCIDENT DATE     11591 non-null object\n",
      "LOCATION          11591 non-null object\n",
      "DESCRIPTION       11591 non-null object\n",
      "CATEGORY          11591 non-null object\n",
      "LATITUDE          11591 non-null float64\n",
      "LONGITUDE         11591 non-null float64\n",
      "NEW CATEGORY      3529 non-null object\n",
      "More Info         173 non-null object\n",
      "APPROVED          11591 non-null object\n",
      "VERIFIED          11591 non-null object\n",
      "dtypes: float64(2), int64(1), object(9)\n",
      "memory usage: 1.1+ MB\n"
     ]
    }
   ],
   "source": [
    "# remove null values\n",
    "data = data.dropna(subset = ['DESCRIPTION'])\n",
    "data.info()"
   ]
  },
  {
   "cell_type": "code",
   "execution_count": 4,
   "metadata": {},
   "outputs": [],
   "source": [
    "# Modify categories for clustering\n",
    "old_category, new_category = [], []\n",
    "for i in data.index:\n",
    "    old_category.append(data['CATEGORY'][i])\n",
    "    new_category.append(\"\")\n",
    "\n",
    "# print(len(new_cat))"
   ]
  },
  {
   "cell_type": "code",
   "execution_count": 6,
   "metadata": {},
   "outputs": [
    {
     "data": {
      "text/plain": [
       "defaultdict(int,\n",
       "            {'Stalking': 462,\n",
       "             'Catcalls/Whistles': 2483,\n",
       "             'Sexual Invites': 585,\n",
       "             'Others': 689,\n",
       "             'Touching /Groping': 2070,\n",
       "             'Commenting': 2576,\n",
       "             'Rape / Sexual Assault': 421,\n",
       "             'Indecent exposure': 320,\n",
       "             'Chain Snatching': 346,\n",
       "             'Ogling/Facial Expressions/Staring': 1146,\n",
       "             'Taking pictures': 328,\n",
       "             'Poor / No Street Lighting': 156,\n",
       "             'Online Harassment': 1,\n",
       "             'North East India Report': 8})"
      ]
     },
     "execution_count": 6,
     "metadata": {},
     "output_type": "execute_result"
    }
   ],
   "source": [
    "from collections import defaultdict\n",
    "\n",
    "count_ = defaultdict(int)\n",
    "for i in range(len(old_category)):\n",
    "    string = old_category[i].strip().split(',')\n",
    "    count_[string[0]] += 1\n",
    "\n",
    "count_"
   ]
  },
  {
   "cell_type": "code",
   "execution_count": 8,
   "metadata": {},
   "outputs": [],
   "source": [
    "for i in range(len(old_category)):\n",
    "    string = old_category[i].strip().split(',')\n",
    "    if count_[string[0]] < 200: # club sparse classes\n",
    "        new_category[i] = 'Others'\n",
    "    else:\n",
    "        new_category[i] = string[0]"
   ]
  },
  {
   "cell_type": "code",
   "execution_count": 10,
   "metadata": {},
   "outputs": [],
   "source": [
    "data_new = {'DESCRIPTION': data['DESCRIPTION'], 'CATEGORY': new_category}\n",
    "df = pd.DataFrame(data_new)"
   ]
  },
  {
   "cell_type": "code",
   "execution_count": 11,
   "metadata": {},
   "outputs": [
    {
     "data": {
      "text/html": [
       "<div>\n",
       "<style scoped>\n",
       "    .dataframe tbody tr th:only-of-type {\n",
       "        vertical-align: middle;\n",
       "    }\n",
       "\n",
       "    .dataframe tbody tr th {\n",
       "        vertical-align: top;\n",
       "    }\n",
       "\n",
       "    .dataframe thead th {\n",
       "        text-align: right;\n",
       "    }\n",
       "</style>\n",
       "<table border=\"1\" class=\"dataframe\">\n",
       "  <thead>\n",
       "    <tr style=\"text-align: right;\">\n",
       "      <th></th>\n",
       "      <th>DESCRIPTION</th>\n",
       "      <th>CATEGORY</th>\n",
       "    </tr>\n",
       "  </thead>\n",
       "  <tbody>\n",
       "    <tr>\n",
       "      <th>0</th>\n",
       "      <td>guy just started following me</td>\n",
       "      <td>Stalking</td>\n",
       "    </tr>\n",
       "    <tr>\n",
       "      <th>1</th>\n",
       "      <td>Was walking by the town library</td>\n",
       "      <td>Catcalls/Whistles</td>\n",
       "    </tr>\n",
       "    <tr>\n",
       "      <th>2</th>\n",
       "      <td>Was walking by the town library</td>\n",
       "      <td>Catcalls/Whistles</td>\n",
       "    </tr>\n",
       "    <tr>\n",
       "      <th>3</th>\n",
       "      <td>In our school there is a male teacher who foll...</td>\n",
       "      <td>Sexual Invites</td>\n",
       "    </tr>\n",
       "    <tr>\n",
       "      <th>4</th>\n",
       "      <td>There is a girl who loves having sex and getti...</td>\n",
       "      <td>Others</td>\n",
       "    </tr>\n",
       "  </tbody>\n",
       "</table>\n",
       "</div>"
      ],
      "text/plain": [
       "                                         DESCRIPTION           CATEGORY\n",
       "0                      guy just started following me           Stalking\n",
       "1                    Was walking by the town library  Catcalls/Whistles\n",
       "2                    Was walking by the town library  Catcalls/Whistles\n",
       "3  In our school there is a male teacher who foll...     Sexual Invites\n",
       "4  There is a girl who loves having sex and getti...             Others"
      ]
     },
     "execution_count": 11,
     "metadata": {},
     "output_type": "execute_result"
    }
   ],
   "source": [
    "df.head()"
   ]
  },
  {
   "cell_type": "code",
   "execution_count": 12,
   "metadata": {},
   "outputs": [
    {
     "name": "stdout",
     "output_type": "stream",
     "text": [
      "<class 'pandas.core.frame.DataFrame'>\n",
      "Int64Index: 11591 entries, 0 to 11677\n",
      "Data columns (total 2 columns):\n",
      "DESCRIPTION    11591 non-null object\n",
      "CATEGORY       11591 non-null object\n",
      "dtypes: object(2)\n",
      "memory usage: 591.7+ KB\n"
     ]
    }
   ],
   "source": [
    "df.info()"
   ]
  },
  {
   "cell_type": "code",
   "execution_count": 13,
   "metadata": {},
   "outputs": [
    {
     "data": {
      "text/plain": [
       "Commenting                           2576\n",
       "Catcalls/Whistles                    2483\n",
       "Touching /Groping                    2070\n",
       "Ogling/Facial Expressions/Staring    1146\n",
       "Others                                854\n",
       "Sexual Invites                        585\n",
       "Stalking                              462\n",
       "Rape / Sexual Assault                 421\n",
       "Chain Snatching                       346\n",
       "Taking pictures                       328\n",
       "Indecent exposure                     320\n",
       "Name: CATEGORY, dtype: int64"
      ]
     },
     "execution_count": 13,
     "metadata": {},
     "output_type": "execute_result"
    }
   ],
   "source": [
    "df['CATEGORY'].value_counts()"
   ]
  },
  {
   "cell_type": "code",
   "execution_count": 14,
   "metadata": {},
   "outputs": [],
   "source": [
    "df.to_csv('category.csv') # write to new file"
   ]
  }
 ],
 "metadata": {
  "kernelspec": {
   "display_name": "Python 3",
   "language": "python",
   "name": "python3"
  },
  "language_info": {
   "codemirror_mode": {
    "name": "ipython",
    "version": 3
   },
   "file_extension": ".py",
   "mimetype": "text/x-python",
   "name": "python",
   "nbconvert_exporter": "python",
   "pygments_lexer": "ipython3",
   "version": "3.7.0"
  }
 },
 "nbformat": 4,
 "nbformat_minor": 2
}
